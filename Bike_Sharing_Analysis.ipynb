{
  "cells": [
    {
      "cell_type": "markdown",
      "metadata": {
        "id": "view-in-github",
        "colab_type": "text"
      },
      "source": [
        "<a href=\"https://colab.research.google.com/github/yousefbahlool/bike-sharing-analysis/blob/main/Bike_Sharing_Analysis.ipynb\" target=\"_parent\"><img src=\"https://colab.research.google.com/assets/colab-badge.svg\" alt=\"Open In Colab\"/></a>"
      ]
    },
    {
      "cell_type": "markdown",
      "id": "1b092f73",
      "metadata": {
        "id": "1b092f73"
      },
      "source": [
        "# Bike Sharing Data Analysis (Capstone-Style)\n",
        "\n",
        "Starter notebook to help you build a **portfolio-ready** data analysis project you can put on your CV.\n",
        "\n",
        "**What you'll do here:**\n",
        "1) Load the Bike Sharing dataset (`day.csv`).\n",
        "2) Clean & rename columns.\n",
        "3) Explore key questions and visualize results.\n",
        "4) Write 2–3 actionable recommendations.\n",
        "\n",
        "---\n",
        "**How to use:**\n",
        "- Put `day.csv` in the **same folder** as this notebook.\n",
        "- If you don't have the file yet, get it from Kaggle (Bike Sharing Dataset). For now, the notebook will create a **tiny synthetic sample** so you can run everything immediately, then switch to the real file.\n",
        "\n",
        "**Tools:** Python, pandas, matplotlib (no custom styles)."
      ]
    },
    {
      "cell_type": "code",
      "source": [
        "from google.colab import drive\n",
        "drive.mount('/content/drive')"
      ],
      "metadata": {
        "colab": {
          "base_uri": "https://localhost:8080/",
          "height": 316
        },
        "id": "my3Aw6x_6UXw",
        "outputId": "b930fa1f-5ba1-464b-c56c-da704f278078"
      },
      "id": "my3Aw6x_6UXw",
      "execution_count": 8,
      "outputs": [
        {
          "output_type": "error",
          "ename": "MessageError",
          "evalue": "Error: credential propagation was unsuccessful",
          "traceback": [
            "\u001b[0;31m---------------------------------------------------------------------------\u001b[0m",
            "\u001b[0;31mMessageError\u001b[0m                              Traceback (most recent call last)",
            "\u001b[0;32m/tmp/ipython-input-1408506528.py\u001b[0m in \u001b[0;36m<cell line: 0>\u001b[0;34m()\u001b[0m\n\u001b[1;32m      1\u001b[0m \u001b[0;32mfrom\u001b[0m \u001b[0mgoogle\u001b[0m\u001b[0;34m.\u001b[0m\u001b[0mcolab\u001b[0m \u001b[0;32mimport\u001b[0m \u001b[0mdrive\u001b[0m\u001b[0;34m\u001b[0m\u001b[0;34m\u001b[0m\u001b[0m\n\u001b[0;32m----> 2\u001b[0;31m \u001b[0mdrive\u001b[0m\u001b[0;34m.\u001b[0m\u001b[0mmount\u001b[0m\u001b[0;34m(\u001b[0m\u001b[0;34m'/content/drive'\u001b[0m\u001b[0;34m)\u001b[0m\u001b[0;34m\u001b[0m\u001b[0;34m\u001b[0m\u001b[0m\n\u001b[0m",
            "\u001b[0;32m/usr/local/lib/python3.12/dist-packages/google/colab/drive.py\u001b[0m in \u001b[0;36mmount\u001b[0;34m(mountpoint, force_remount, timeout_ms, readonly)\u001b[0m\n\u001b[1;32m     95\u001b[0m \u001b[0;32mdef\u001b[0m \u001b[0mmount\u001b[0m\u001b[0;34m(\u001b[0m\u001b[0mmountpoint\u001b[0m\u001b[0;34m,\u001b[0m \u001b[0mforce_remount\u001b[0m\u001b[0;34m=\u001b[0m\u001b[0;32mFalse\u001b[0m\u001b[0;34m,\u001b[0m \u001b[0mtimeout_ms\u001b[0m\u001b[0;34m=\u001b[0m\u001b[0;36m120000\u001b[0m\u001b[0;34m,\u001b[0m \u001b[0mreadonly\u001b[0m\u001b[0;34m=\u001b[0m\u001b[0;32mFalse\u001b[0m\u001b[0;34m)\u001b[0m\u001b[0;34m:\u001b[0m\u001b[0;34m\u001b[0m\u001b[0;34m\u001b[0m\u001b[0m\n\u001b[1;32m     96\u001b[0m   \u001b[0;34m\"\"\"Mount your Google Drive at the specified mountpoint path.\"\"\"\u001b[0m\u001b[0;34m\u001b[0m\u001b[0;34m\u001b[0m\u001b[0m\n\u001b[0;32m---> 97\u001b[0;31m   return _mount(\n\u001b[0m\u001b[1;32m     98\u001b[0m       \u001b[0mmountpoint\u001b[0m\u001b[0;34m,\u001b[0m\u001b[0;34m\u001b[0m\u001b[0;34m\u001b[0m\u001b[0m\n\u001b[1;32m     99\u001b[0m       \u001b[0mforce_remount\u001b[0m\u001b[0;34m=\u001b[0m\u001b[0mforce_remount\u001b[0m\u001b[0;34m,\u001b[0m\u001b[0;34m\u001b[0m\u001b[0;34m\u001b[0m\u001b[0m\n",
            "\u001b[0;32m/usr/local/lib/python3.12/dist-packages/google/colab/drive.py\u001b[0m in \u001b[0;36m_mount\u001b[0;34m(mountpoint, force_remount, timeout_ms, ephemeral, readonly)\u001b[0m\n\u001b[1;32m    132\u001b[0m   )\n\u001b[1;32m    133\u001b[0m   \u001b[0;32mif\u001b[0m \u001b[0mephemeral\u001b[0m\u001b[0;34m:\u001b[0m\u001b[0;34m\u001b[0m\u001b[0;34m\u001b[0m\u001b[0m\n\u001b[0;32m--> 134\u001b[0;31m     _message.blocking_request(\n\u001b[0m\u001b[1;32m    135\u001b[0m         \u001b[0;34m'request_auth'\u001b[0m\u001b[0;34m,\u001b[0m\u001b[0;34m\u001b[0m\u001b[0;34m\u001b[0m\u001b[0m\n\u001b[1;32m    136\u001b[0m         \u001b[0mrequest\u001b[0m\u001b[0;34m=\u001b[0m\u001b[0;34m{\u001b[0m\u001b[0;34m'authType'\u001b[0m\u001b[0;34m:\u001b[0m \u001b[0;34m'dfs_ephemeral'\u001b[0m\u001b[0;34m}\u001b[0m\u001b[0;34m,\u001b[0m\u001b[0;34m\u001b[0m\u001b[0;34m\u001b[0m\u001b[0m\n",
            "\u001b[0;32m/usr/local/lib/python3.12/dist-packages/google/colab/_message.py\u001b[0m in \u001b[0;36mblocking_request\u001b[0;34m(request_type, request, timeout_sec, parent)\u001b[0m\n\u001b[1;32m    174\u001b[0m       \u001b[0mrequest_type\u001b[0m\u001b[0;34m,\u001b[0m \u001b[0mrequest\u001b[0m\u001b[0;34m,\u001b[0m \u001b[0mparent\u001b[0m\u001b[0;34m=\u001b[0m\u001b[0mparent\u001b[0m\u001b[0;34m,\u001b[0m \u001b[0mexpect_reply\u001b[0m\u001b[0;34m=\u001b[0m\u001b[0;32mTrue\u001b[0m\u001b[0;34m\u001b[0m\u001b[0;34m\u001b[0m\u001b[0m\n\u001b[1;32m    175\u001b[0m   )\n\u001b[0;32m--> 176\u001b[0;31m   \u001b[0;32mreturn\u001b[0m \u001b[0mread_reply_from_input\u001b[0m\u001b[0;34m(\u001b[0m\u001b[0mrequest_id\u001b[0m\u001b[0;34m,\u001b[0m \u001b[0mtimeout_sec\u001b[0m\u001b[0;34m)\u001b[0m\u001b[0;34m\u001b[0m\u001b[0;34m\u001b[0m\u001b[0m\n\u001b[0m",
            "\u001b[0;32m/usr/local/lib/python3.12/dist-packages/google/colab/_message.py\u001b[0m in \u001b[0;36mread_reply_from_input\u001b[0;34m(message_id, timeout_sec)\u001b[0m\n\u001b[1;32m    101\u001b[0m     ):\n\u001b[1;32m    102\u001b[0m       \u001b[0;32mif\u001b[0m \u001b[0;34m'error'\u001b[0m \u001b[0;32min\u001b[0m \u001b[0mreply\u001b[0m\u001b[0;34m:\u001b[0m\u001b[0;34m\u001b[0m\u001b[0;34m\u001b[0m\u001b[0m\n\u001b[0;32m--> 103\u001b[0;31m         \u001b[0;32mraise\u001b[0m \u001b[0mMessageError\u001b[0m\u001b[0;34m(\u001b[0m\u001b[0mreply\u001b[0m\u001b[0;34m[\u001b[0m\u001b[0;34m'error'\u001b[0m\u001b[0;34m]\u001b[0m\u001b[0;34m)\u001b[0m\u001b[0;34m\u001b[0m\u001b[0;34m\u001b[0m\u001b[0m\n\u001b[0m\u001b[1;32m    104\u001b[0m       \u001b[0;32mreturn\u001b[0m \u001b[0mreply\u001b[0m\u001b[0;34m.\u001b[0m\u001b[0mget\u001b[0m\u001b[0;34m(\u001b[0m\u001b[0;34m'data'\u001b[0m\u001b[0;34m,\u001b[0m \u001b[0;32mNone\u001b[0m\u001b[0;34m)\u001b[0m\u001b[0;34m\u001b[0m\u001b[0;34m\u001b[0m\u001b[0m\n\u001b[1;32m    105\u001b[0m \u001b[0;34m\u001b[0m\u001b[0m\n",
            "\u001b[0;31mMessageError\u001b[0m: Error: credential propagation was unsuccessful"
          ]
        }
      ]
    },
    {
      "cell_type": "code",
      "execution_count": null,
      "id": "3062b8fa",
      "metadata": {
        "id": "3062b8fa"
      },
      "outputs": [],
      "source": [
        "import os\n",
        "import pandas as pd\n",
        "import numpy as np\n",
        "import matplotlib.pyplot as plt\n",
        "\n",
        "pd.set_option('display.max_columns', 50)\n",
        "pd.set_option('display.width', 120)\n"
      ]
    },
    {
      "cell_type": "markdown",
      "id": "d944a601",
      "metadata": {
        "id": "d944a601"
      },
      "source": [
        "## 1) Load data"
      ]
    },
    {
      "cell_type": "code",
      "execution_count": null,
      "id": "60c5e8b0",
      "metadata": {
        "id": "60c5e8b0"
      },
      "outputs": [],
      "source": [
        "csv_path = 'day.csv'\n",
        "if os.path.exists(csv_path):\n",
        "    df_raw = pd.read_csv(csv_path)\n",
        "    print('Loaded real dataset:', csv_path)\n",
        "else:\n",
        "    df_raw = pd.DataFrame({\n",
        "        'dteday': pd.date_range('2021-01-01', periods=14, freq='D'),\n",
        "        'season': [1,1,1,1,1,1,1,2,2,2,2,2,2,2],\n",
        "        'yr': [0]*7 + [1]*7,\n",
        "        'mnth': [1]*7 + [2]*7,\n",
        "        'holiday': [0]*14,\n",
        "        'weekday': list(range(7)) + list(range(7)),\n",
        "        'workingday': [1,1,1,1,1,0,0,1,1,1,1,1,0,0],\n",
        "        'weathersit': [1,2,1,2,1,3,2,1,2,2,1,3,2,1],\n",
        "        'temp': np.linspace(0.2, 0.8, 14),\n",
        "        'atemp': np.linspace(0.2, 0.75, 14),\n",
        "        'hum': np.linspace(0.4, 0.9, 14),\n",
        "        'windspeed': np.linspace(0.05, 0.3, 14),\n",
        "        'casual': np.random.randint(20, 180, 14),\n",
        "        'registered': np.random.randint(50, 450, 14),\n",
        "        'cnt': np.random.randint(100, 600, 14)\n",
        "    })\n",
        "    print('WARNING: day.csv not found. Using a tiny synthetic sample so you can run the notebook. Replace with the real file when ready.')\n",
        "\n",
        "df_raw.head()"
      ]
    },
    {
      "cell_type": "markdown",
      "id": "265e4a70",
      "metadata": {
        "id": "265e4a70"
      },
      "source": [
        "## 2) Quick overview"
      ]
    },
    {
      "cell_type": "code",
      "execution_count": null,
      "id": "8f040347",
      "metadata": {
        "id": "8f040347"
      },
      "outputs": [],
      "source": [
        "print('\\nShape:', df_raw.shape)\n",
        "print('\\nInfo:')\n",
        "print(df_raw.info())\n",
        "\n",
        "df_raw.describe(include='all').T"
      ]
    },
    {
      "cell_type": "markdown",
      "id": "b0902480",
      "metadata": {
        "id": "b0902480"
      },
      "source": [
        "## 3) Rename & clean columns"
      ]
    },
    {
      "cell_type": "code",
      "execution_count": null,
      "id": "a5f3024b",
      "metadata": {
        "id": "a5f3024b"
      },
      "outputs": [],
      "source": [
        "df = df_raw.copy()\n",
        "df = df.rename(columns={\n",
        "    'dteday': 'Date',\n",
        "    'temp': 'Temperature',\n",
        "    'hum': 'Humidity',\n",
        "    'windspeed': 'Windspeed',\n",
        "    'cnt': 'Rentals'\n",
        "})\n",
        "if not np.issubdtype(df['Date'].dtype, np.datetime64):\n",
        "    df['Date'] = pd.to_datetime(df['Date'], errors='coerce')\n",
        "print(df.isnull().sum())\n",
        "df.head(3)"
      ]
    },
    {
      "cell_type": "markdown",
      "id": "6a860b23",
      "metadata": {
        "id": "6a860b23"
      },
      "source": [
        "## 4) Key Questions\n",
        "1. Which weekdays have higher average rentals?\n",
        "2. How does temperature relate to rentals?\n",
        "3. Do working days differ from weekends?"
      ]
    },
    {
      "cell_type": "markdown",
      "id": "bd21a8d2",
      "metadata": {
        "id": "bd21a8d2"
      },
      "source": [
        "### Q1) Average rentals per weekday"
      ]
    },
    {
      "cell_type": "code",
      "execution_count": null,
      "id": "9f60a3c0",
      "metadata": {
        "id": "9f60a3c0"
      },
      "outputs": [],
      "source": [
        "group_weekday = df.groupby('weekday')['Rentals'].mean().sort_index()\n",
        "print(group_weekday)\n",
        "\n",
        "plt.figure()\n",
        "group_weekday.plot(kind='bar')\n",
        "plt.title('Average Bike Rentals per Weekday')\n",
        "plt.xlabel('Weekday (0=Sunday if aligned with dataset)')\n",
        "plt.ylabel('Average Rentals')\n",
        "plt.tight_layout()\n",
        "plt.show()"
      ]
    },
    {
      "cell_type": "markdown",
      "id": "87f91e74",
      "metadata": {
        "id": "87f91e74"
      },
      "source": [
        "### Q2) Rentals vs. Temperature"
      ]
    },
    {
      "cell_type": "code",
      "execution_count": null,
      "id": "e6f4e066",
      "metadata": {
        "id": "e6f4e066"
      },
      "outputs": [],
      "source": [
        "plt.figure()\n",
        "plt.scatter(df['Temperature'], df['Rentals'], alpha=0.6)\n",
        "plt.title('Temperature vs. Rentals')\n",
        "plt.xlabel('Temperature (normalized in original dataset)')\n",
        "plt.ylabel('Rentals')\n",
        "plt.tight_layout()\n",
        "plt.show()"
      ]
    },
    {
      "cell_type": "markdown",
      "id": "bd278eea",
      "metadata": {
        "id": "bd278eea"
      },
      "source": [
        "### Q3) Working day vs. Weekend"
      ]
    },
    {
      "cell_type": "code",
      "execution_count": null,
      "id": "55b50bbf",
      "metadata": {
        "id": "55b50bbf"
      },
      "outputs": [],
      "source": [
        "group_work = df.groupby('workingday')['Rentals'].mean()\n",
        "print(group_work)\n",
        "\n",
        "plt.figure()\n",
        "group_work.plot(kind='bar')\n",
        "plt.title('Average Rentals: Working Day (1) vs Weekend (0)')\n",
        "plt.xlabel('Working Day')\n",
        "plt.ylabel('Average Rentals')\n",
        "plt.tight_layout()\n",
        "plt.show()"
      ]
    },
    {
      "cell_type": "markdown",
      "id": "aff6e398",
      "metadata": {
        "id": "aff6e398"
      },
      "source": [
        "## 5) Findings & Recommendations"
      ]
    },
    {
      "cell_type": "markdown",
      "id": "058289b6",
      "metadata": {
        "id": "058289b6"
      },
      "source": [
        "**Fill in with your observations. Examples:**\n",
        "- Weekend demand appears higher than weekdays.\n",
        "- Rentals increase with higher temperatures.\n",
        "- Poor weather correlates with lower demand.\n",
        "\n",
        "**Recommendations:**\n",
        "- Increase availability on weekends and warm days.\n",
        "- Consider discounts during poor weather.\n",
        "- Schedule maintenance on low-demand weekdays."
      ]
    }
  ],
  "metadata": {
    "colab": {
      "provenance": [],
      "toc_visible": true,
      "include_colab_link": true
    },
    "language_info": {
      "name": "python"
    },
    "kernelspec": {
      "name": "python3",
      "display_name": "Python 3"
    }
  },
  "nbformat": 4,
  "nbformat_minor": 5
}